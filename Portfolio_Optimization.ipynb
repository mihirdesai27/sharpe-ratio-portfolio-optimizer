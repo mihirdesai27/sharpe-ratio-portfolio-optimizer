{
 "cells": [
  {
   "cell_type": "code",
   "execution_count": 1,
   "id": "ed19f1cf-58e6-497b-95e6-af5f4c42d492",
   "metadata": {},
   "outputs": [
    {
     "name": "stdout",
     "output_type": "stream",
     "text": [
      "Requirement already satisfied: numpy in c:\\users\\lenovo\\anaconda3\\lib\\site-packages (1.26.4)\n",
      "Requirement already satisfied: pandas in c:\\users\\lenovo\\anaconda3\\lib\\site-packages (2.2.2)\n",
      "Requirement already satisfied: matplotlib in c:\\users\\lenovo\\anaconda3\\lib\\site-packages (3.9.2)\n",
      "Requirement already satisfied: yfinance in c:\\users\\lenovo\\anaconda3\\lib\\site-packages (0.2.64)\n",
      "Requirement already satisfied: scipy in c:\\users\\lenovo\\anaconda3\\lib\\site-packages (1.13.1)\n",
      "Requirement already satisfied: python-dateutil>=2.8.2 in c:\\users\\lenovo\\anaconda3\\lib\\site-packages (from pandas) (2.9.0.post0)\n",
      "Requirement already satisfied: pytz>=2020.1 in c:\\users\\lenovo\\anaconda3\\lib\\site-packages (from pandas) (2024.1)\n",
      "Requirement already satisfied: tzdata>=2022.7 in c:\\users\\lenovo\\anaconda3\\lib\\site-packages (from pandas) (2023.3)\n",
      "Requirement already satisfied: contourpy>=1.0.1 in c:\\users\\lenovo\\anaconda3\\lib\\site-packages (from matplotlib) (1.2.0)\n",
      "Requirement already satisfied: cycler>=0.10 in c:\\users\\lenovo\\anaconda3\\lib\\site-packages (from matplotlib) (0.11.0)\n",
      "Requirement already satisfied: fonttools>=4.22.0 in c:\\users\\lenovo\\anaconda3\\lib\\site-packages (from matplotlib) (4.51.0)\n",
      "Requirement already satisfied: kiwisolver>=1.3.1 in c:\\users\\lenovo\\anaconda3\\lib\\site-packages (from matplotlib) (1.4.4)\n",
      "Requirement already satisfied: packaging>=20.0 in c:\\users\\lenovo\\anaconda3\\lib\\site-packages (from matplotlib) (24.1)\n",
      "Requirement already satisfied: pillow>=8 in c:\\users\\lenovo\\anaconda3\\lib\\site-packages (from matplotlib) (10.4.0)\n",
      "Requirement already satisfied: pyparsing>=2.3.1 in c:\\users\\lenovo\\anaconda3\\lib\\site-packages (from matplotlib) (3.1.2)\n",
      "Requirement already satisfied: requests>=2.31 in c:\\users\\lenovo\\anaconda3\\lib\\site-packages (from yfinance) (2.32.3)\n",
      "Requirement already satisfied: multitasking>=0.0.7 in c:\\users\\lenovo\\anaconda3\\lib\\site-packages (from yfinance) (0.0.11)\n",
      "Requirement already satisfied: platformdirs>=2.0.0 in c:\\users\\lenovo\\anaconda3\\lib\\site-packages (from yfinance) (3.10.0)\n",
      "Requirement already satisfied: frozendict>=2.3.4 in c:\\users\\lenovo\\anaconda3\\lib\\site-packages (from yfinance) (2.4.2)\n",
      "Requirement already satisfied: peewee>=3.16.2 in c:\\users\\lenovo\\anaconda3\\lib\\site-packages (from yfinance) (3.18.1)\n",
      "Requirement already satisfied: beautifulsoup4>=4.11.1 in c:\\users\\lenovo\\anaconda3\\lib\\site-packages (from yfinance) (4.12.3)\n",
      "Requirement already satisfied: curl_cffi>=0.7 in c:\\users\\lenovo\\anaconda3\\lib\\site-packages (from yfinance) (0.11.4)\n",
      "Requirement already satisfied: protobuf>=3.19.0 in c:\\users\\lenovo\\anaconda3\\lib\\site-packages (from yfinance) (4.25.3)\n",
      "Requirement already satisfied: websockets>=13.0 in c:\\users\\lenovo\\anaconda3\\lib\\site-packages (from yfinance) (15.0.1)\n",
      "Requirement already satisfied: soupsieve>1.2 in c:\\users\\lenovo\\anaconda3\\lib\\site-packages (from beautifulsoup4>=4.11.1->yfinance) (2.5)\n",
      "Requirement already satisfied: cffi>=1.12.0 in c:\\users\\lenovo\\anaconda3\\lib\\site-packages (from curl_cffi>=0.7->yfinance) (1.17.1)\n",
      "Requirement already satisfied: certifi>=2024.2.2 in c:\\users\\lenovo\\anaconda3\\lib\\site-packages (from curl_cffi>=0.7->yfinance) (2024.8.30)\n",
      "Requirement already satisfied: six>=1.5 in c:\\users\\lenovo\\anaconda3\\lib\\site-packages (from python-dateutil>=2.8.2->pandas) (1.16.0)\n",
      "Requirement already satisfied: charset-normalizer<4,>=2 in c:\\users\\lenovo\\anaconda3\\lib\\site-packages (from requests>=2.31->yfinance) (3.3.2)\n",
      "Requirement already satisfied: idna<4,>=2.5 in c:\\users\\lenovo\\anaconda3\\lib\\site-packages (from requests>=2.31->yfinance) (3.7)\n",
      "Requirement already satisfied: urllib3<3,>=1.21.1 in c:\\users\\lenovo\\anaconda3\\lib\\site-packages (from requests>=2.31->yfinance) (2.2.3)\n",
      "Requirement already satisfied: pycparser in c:\\users\\lenovo\\anaconda3\\lib\\site-packages (from cffi>=1.12.0->curl_cffi>=0.7->yfinance) (2.21)\n",
      "Note: you may need to restart the kernel to use updated packages.\n"
     ]
    }
   ],
   "source": [
    "pip install numpy pandas matplotlib yfinance scipy"
   ]
  },
  {
   "cell_type": "code",
   "execution_count": 2,
   "id": "8b93d2d4-c2ff-40d8-9e82-8b6e8ea46a41",
   "metadata": {},
   "outputs": [],
   "source": [
    "import numpy as np\n",
    "import pandas as pd\n",
    "import yfinance as yf\n",
    "import matplotlib.pyplot as plt\n",
    "from scipy.optimize import minimize"
   ]
  },
  {
   "cell_type": "code",
   "execution_count": 5,
   "id": "c9dd7e8e-4aa8-4630-bfde-b2b730888a81",
   "metadata": {},
   "outputs": [
    {
     "name": "stderr",
     "output_type": "stream",
     "text": [
      "[*********************100%***********************]  5 of 5 completed\n"
     ]
    },
    {
     "data": {
      "text/html": [
       "<div>\n",
       "<style scoped>\n",
       "    .dataframe tbody tr th:only-of-type {\n",
       "        vertical-align: middle;\n",
       "    }\n",
       "\n",
       "    .dataframe tbody tr th {\n",
       "        vertical-align: top;\n",
       "    }\n",
       "\n",
       "    .dataframe thead th {\n",
       "        text-align: right;\n",
       "    }\n",
       "</style>\n",
       "<table border=\"1\" class=\"dataframe\">\n",
       "  <thead>\n",
       "    <tr style=\"text-align: right;\">\n",
       "      <th>Ticker</th>\n",
       "      <th>HDFCBANK.NS</th>\n",
       "      <th>INFY.NS</th>\n",
       "      <th>ITC.NS</th>\n",
       "      <th>RELIANCE.NS</th>\n",
       "      <th>TCS.NS</th>\n",
       "    </tr>\n",
       "    <tr>\n",
       "      <th>Date</th>\n",
       "      <th></th>\n",
       "      <th></th>\n",
       "      <th></th>\n",
       "      <th></th>\n",
       "      <th></th>\n",
       "    </tr>\n",
       "  </thead>\n",
       "  <tbody>\n",
       "    <tr>\n",
       "      <th>2022-01-03</th>\n",
       "      <td>1449.202515</td>\n",
       "      <td>1755.068359</td>\n",
       "      <td>191.641891</td>\n",
       "      <td>1109.376343</td>\n",
       "      <td>3559.860840</td>\n",
       "    </tr>\n",
       "    <tr>\n",
       "      <th>2022-01-04</th>\n",
       "      <td>1457.689941</td>\n",
       "      <td>1755.715698</td>\n",
       "      <td>192.647736</td>\n",
       "      <td>1134.412720</td>\n",
       "      <td>3622.334717</td>\n",
       "    </tr>\n",
       "    <tr>\n",
       "      <th>2022-01-05</th>\n",
       "      <td>1492.307007</td>\n",
       "      <td>1705.331665</td>\n",
       "      <td>192.910156</td>\n",
       "      <td>1139.719971</td>\n",
       "      <td>3600.142334</td>\n",
       "    </tr>\n",
       "    <tr>\n",
       "      <th>2022-01-06</th>\n",
       "      <td>1468.370728</td>\n",
       "      <td>1680.509644</td>\n",
       "      <td>191.291977</td>\n",
       "      <td>1115.214355</td>\n",
       "      <td>3550.256348</td>\n",
       "    </tr>\n",
       "    <tr>\n",
       "      <th>2022-01-07</th>\n",
       "      <td>1478.670044</td>\n",
       "      <td>1677.274048</td>\n",
       "      <td>191.029572</td>\n",
       "      <td>1124.213623</td>\n",
       "      <td>3593.195312</td>\n",
       "    </tr>\n",
       "  </tbody>\n",
       "</table>\n",
       "</div>"
      ],
      "text/plain": [
       "Ticker      HDFCBANK.NS      INFY.NS      ITC.NS  RELIANCE.NS       TCS.NS\n",
       "Date                                                                      \n",
       "2022-01-03  1449.202515  1755.068359  191.641891  1109.376343  3559.860840\n",
       "2022-01-04  1457.689941  1755.715698  192.647736  1134.412720  3622.334717\n",
       "2022-01-05  1492.307007  1705.331665  192.910156  1139.719971  3600.142334\n",
       "2022-01-06  1468.370728  1680.509644  191.291977  1115.214355  3550.256348\n",
       "2022-01-07  1478.670044  1677.274048  191.029572  1124.213623  3593.195312"
      ]
     },
     "execution_count": 5,
     "metadata": {},
     "output_type": "execute_result"
    }
   ],
   "source": [
    "# Pick 5 Indian stocks (you can change later)\n",
    "tickers = ['TCS.NS', 'INFY.NS', 'RELIANCE.NS', 'HDFCBANK.NS', 'ITC.NS']\n",
    "\n",
    "# Download adjusted closing prices from Yahoo Finance\n",
    "data = yf.download(tickers, start='2022-01-01', end='2023-12-31', auto_adjust=True)['Close']\n",
    "\n",
    "# Show first 5 rows\n",
    "data.head()"
   ]
  },
  {
   "cell_type": "code",
   "execution_count": 6,
   "id": "fe6864c2-589d-4145-ab85-f4cb2b7faf24",
   "metadata": {},
   "outputs": [
    {
     "data": {
      "text/html": [
       "<div>\n",
       "<style scoped>\n",
       "    .dataframe tbody tr th:only-of-type {\n",
       "        vertical-align: middle;\n",
       "    }\n",
       "\n",
       "    .dataframe tbody tr th {\n",
       "        vertical-align: top;\n",
       "    }\n",
       "\n",
       "    .dataframe thead th {\n",
       "        text-align: right;\n",
       "    }\n",
       "</style>\n",
       "<table border=\"1\" class=\"dataframe\">\n",
       "  <thead>\n",
       "    <tr style=\"text-align: right;\">\n",
       "      <th>Ticker</th>\n",
       "      <th>HDFCBANK.NS</th>\n",
       "      <th>INFY.NS</th>\n",
       "      <th>ITC.NS</th>\n",
       "      <th>RELIANCE.NS</th>\n",
       "      <th>TCS.NS</th>\n",
       "    </tr>\n",
       "    <tr>\n",
       "      <th>Date</th>\n",
       "      <th></th>\n",
       "      <th></th>\n",
       "      <th></th>\n",
       "      <th></th>\n",
       "      <th></th>\n",
       "    </tr>\n",
       "  </thead>\n",
       "  <tbody>\n",
       "    <tr>\n",
       "      <th>2022-01-04</th>\n",
       "      <td>0.005857</td>\n",
       "      <td>0.000369</td>\n",
       "      <td>0.005249</td>\n",
       "      <td>0.022568</td>\n",
       "      <td>0.017550</td>\n",
       "    </tr>\n",
       "    <tr>\n",
       "      <th>2022-01-05</th>\n",
       "      <td>0.023748</td>\n",
       "      <td>-0.028697</td>\n",
       "      <td>0.001362</td>\n",
       "      <td>0.004678</td>\n",
       "      <td>-0.006127</td>\n",
       "    </tr>\n",
       "    <tr>\n",
       "      <th>2022-01-06</th>\n",
       "      <td>-0.016040</td>\n",
       "      <td>-0.014556</td>\n",
       "      <td>-0.008388</td>\n",
       "      <td>-0.021501</td>\n",
       "      <td>-0.013857</td>\n",
       "    </tr>\n",
       "    <tr>\n",
       "      <th>2022-01-07</th>\n",
       "      <td>0.007014</td>\n",
       "      <td>-0.001925</td>\n",
       "      <td>-0.001372</td>\n",
       "      <td>0.008070</td>\n",
       "      <td>0.012095</td>\n",
       "    </tr>\n",
       "    <tr>\n",
       "      <th>2022-01-10</th>\n",
       "      <td>0.005546</td>\n",
       "      <td>0.020090</td>\n",
       "      <td>0.022436</td>\n",
       "      <td>0.000821</td>\n",
       "      <td>0.006838</td>\n",
       "    </tr>\n",
       "  </tbody>\n",
       "</table>\n",
       "</div>"
      ],
      "text/plain": [
       "Ticker      HDFCBANK.NS   INFY.NS    ITC.NS  RELIANCE.NS    TCS.NS\n",
       "Date                                                              \n",
       "2022-01-04     0.005857  0.000369  0.005249     0.022568  0.017550\n",
       "2022-01-05     0.023748 -0.028697  0.001362     0.004678 -0.006127\n",
       "2022-01-06    -0.016040 -0.014556 -0.008388    -0.021501 -0.013857\n",
       "2022-01-07     0.007014 -0.001925 -0.001372     0.008070  0.012095\n",
       "2022-01-10     0.005546  0.020090  0.022436     0.000821  0.006838"
      ]
     },
     "execution_count": 6,
     "metadata": {},
     "output_type": "execute_result"
    }
   ],
   "source": [
    "# Calculate daily returns (percentage change)\n",
    "returns = data.pct_change().dropna()\n",
    "returns.head()\n"
   ]
  },
  {
   "cell_type": "code",
   "execution_count": 7,
   "id": "fecaef79-7726-4c24-9189-8fed6de10644",
   "metadata": {},
   "outputs": [],
   "source": [
    "def portfolio_performance(weights, mean_returns, cov_matrix, risk_free=0.06):\n",
    "    returns = np.sum(mean_returns * weights) * 252  # 252 = trading days in a year\n",
    "    std_dev = np.sqrt(np.dot(weights.T, np.dot(cov_matrix * 252, weights)))\n",
    "    sharpe_ratio = (returns - risk_free) / std_dev\n",
    "    return returns, std_dev, sharpe_ratio\n"
   ]
  },
  {
   "cell_type": "code",
   "execution_count": 8,
   "id": "d0ecf67f-407a-4b19-941a-1a142b01943e",
   "metadata": {},
   "outputs": [],
   "source": [
    "mean_returns = returns.mean()\n",
    "cov_matrix = returns.cov()\n"
   ]
  },
  {
   "cell_type": "code",
   "execution_count": 11,
   "id": "be1e3b8b-f403-42b4-8f6d-2cc4afa5a486",
   "metadata": {},
   "outputs": [],
   "source": [
    "def neg_sharpe(weights, mean_returns, cov_matrix, risk_free=0.06):\n",
    "    return -portfolio_performance(weights, mean_returns, cov_matrix, risk_free)[2]\n",
    "\n",
    "def optimize_portfolio(mean_returns, cov_matrix):\n",
    "    num_assets = len(mean_returns)\n",
    "    args = (mean_returns, cov_matrix)\n",
    "    \n",
    "    # ✅ Constraint 1: Weights must sum to 1\n",
    "    constraints = [{'type': 'eq', 'fun': lambda x: np.sum(x) - 1}]\n",
    "    \n",
    "    # ✅ Constraint 2 (optional): Minimum and maximum weight (e.g., no more than 40% in one stock)\n",
    "    bounds = tuple((0.05, 0.4) for _ in range(num_assets))  # You can tweak min/max\n",
    "\n",
    "    result = minimize(\n",
    "        neg_sharpe,\n",
    "        num_assets * [1. / num_assets],\n",
    "        args=args,\n",
    "        method='SLSQP',\n",
    "        bounds=bounds,\n",
    "        constraints=constraints\n",
    "    )\n",
    "    return result\n",
    "\n"
   ]
  },
  {
   "cell_type": "code",
   "execution_count": 12,
   "id": "63ae12a3-ad6c-48c0-a774-146e028f0128",
   "metadata": {},
   "outputs": [
    {
     "name": "stdout",
     "output_type": "stream",
     "text": [
      "TCS.NS: 27.89%\n",
      "INFY.NS: 5.00%\n",
      "RELIANCE.NS: 40.00%\n",
      "HDFCBANK.NS: 22.11%\n",
      "ITC.NS: 5.00%\n"
     ]
    }
   ],
   "source": [
    "opt_result = optimize_portfolio(mean_returns, cov_matrix)\n",
    "optimal_weights = opt_result.x\n",
    "\n",
    "# Show the result clearly\n",
    "for stock, weight in zip(tickers, optimal_weights):\n",
    "    print(f\"{stock}: {weight:.2%}\")\n"
   ]
  },
  {
   "cell_type": "code",
   "execution_count": 13,
   "id": "49a84760-a342-4815-93fe-d0b40f42dc76",
   "metadata": {},
   "outputs": [
    {
     "data": {
      "image/png": "[encoded data removed]",
      "text/plain": [
       "<Figure size 700x700 with 1 Axes>"
      ]
     },
     "metadata": {},
     "output_type": "display_data"
    }
   ],
   "source": [
    "# Plot pie chart of stock allocations\n",
    "plt.figure(figsize=(7, 7))\n",
    "plt.pie(optimal_weights, labels=tickers, autopct='%1.1f%%', startangle=140)\n",
    "plt.title(\"Optimized Portfolio Allocation\")\n",
    "plt.axis('equal')\n",
    "plt.show()\n"
   ]
  },
  {
   "cell_type": "code",
   "execution_count": 14,
   "id": "a5ff9714-5df6-47fa-8f5d-92cde67dd143",
   "metadata": {},
   "outputs": [
    {
     "name": "stdout",
     "output_type": "stream",
     "text": [
      "Expected Annual Return: 22.29%\n",
      "Annual Volatility (Risk): 14.62%\n",
      "Sharpe Ratio: 1.11\n"
     ]
    }
   ],
   "source": [
    "ret, risk, sharpe = portfolio_performance(optimal_weights, mean_returns, cov_matrix)\n",
    "print(f\"Expected Annual Return: {ret:.2%}\")\n",
    "print(f\"Annual Volatility (Risk): {risk:.2%}\")\n",
    "print(f\"Sharpe Ratio: {sharpe:.2f}\")\n"
   ]
  }
 ],
 "metadata": {
  "kernelspec": {
   "display_name": "Python 3 (ipykernel)",
   "language": "python",
   "name": "python3"
  },
  "language_info": {
   "codemirror_mode": {
    "name": "ipython",
    "version": 3
   },
   "file_extension": ".py",
   "mimetype": "text/x-python",
   "name": "python",
   "nbconvert_exporter": "python",
   "pygments_lexer": "ipython3",
   "version": "3.12.7"
  }
 },
 "nbformat": 4,
 "nbformat_minor": 5
}
